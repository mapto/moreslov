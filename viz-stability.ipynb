{
 "cells": [
  {
   "cell_type": "code",
   "execution_count": 1,
   "id": "52da5308-3574-4cb5-9562-30158e100dee",
   "metadata": {},
   "outputs": [],
   "source": [
    "from typing import List\n",
    "\n",
    "import numpy as np\n",
    "import pandas as pd\n",
    "import scipy.stats as stats\n",
    "\n",
    "from bokeh.plotting import figure, show\n",
    "\n",
    "from corpora import corpora as countries\n",
    "from stemmers import stemmers\n",
    "from algo import algos\n",
    "from settings import model_dir\n",
    "\n",
    "from create import tokenize_values  # , load_source, calc_occurences\n",
    "import similarity\n",
    "from palettes import pal\n",
    "\n",
    "# from similarity import render, calc_dist, calc_agg, calc_shift"
   ]
  },
  {
   "cell_type": "code",
   "execution_count": 2,
   "id": "cdbb549a-6dc4-4271-b08f-10a0ce61237e",
   "metadata": {},
   "outputs": [],
   "source": [
    "tkn = \"sb\"\n",
    "# tkn = \"dummy\"\n",
    "algo = \"ft\"\n",
    "# algo = \"w2v\"\n",
    "\n",
    "# culture = \"I\"\n",
    "culture = \"all\"\n",
    "# culture = \"Germany\"\n",
    "# culture = \"Italy\"\n",
    "# culture = \"Portugal\"\n",
    "iteration = 0  # sb values; dummy corpus\n",
    "# iteration = 1 # sb values and corpus\n",
    "\n",
    "epochs = 200\n",
    "\n",
    "viz_params = {\"average\": np.mean, \"similarity\": None, \"shift\": None, \"stdev\": np.std}\n",
    "viz_fns = {\"average\": \"agg\", \"similarity\": \"sim\", \"shift\": \"shift\", \"stdev\": \"agg\"}\n",
    "viz = \"average\"\n",
    "# viz = \"similarity\"\n",
    "# viz = \"shift\"\n",
    "viz = \"stdev\"\n",
    "\n",
    "\n",
    "# model_dir = \"/home/mapto/models/20230713\""
   ]
  },
  {
   "cell_type": "code",
   "execution_count": 3,
   "id": "bfeaa6fb-3afa-4e13-9a61-a8dae0210569",
   "metadata": {},
   "outputs": [],
   "source": [
    "values, valuesbackref = tokenize_values(tkn)\n",
    "# fulltexts, tokenized = load_source(stemmers[tkn], countries)\n",
    "# occurences, occurences_tv, occurences_backref = calc_occurences(values, tokenized)"
   ]
  },
  {
   "cell_type": "code",
   "execution_count": 4,
   "id": "e29162b7-03ea-449f-b703-e7393b096604",
   "metadata": {},
   "outputs": [],
   "source": [
    "# keywords = sorted(list(set(occurences_backref.keys())))\n",
    "keywords = sorted(list(values.keys()))"
   ]
  },
  {
   "cell_type": "code",
   "execution_count": 5,
   "id": "d08d0a5a-e769-450c-9cfa-fd9b62306be9",
   "metadata": {},
   "outputs": [],
   "source": [
    "# dist = calc_dist(keywords, culture, tkn, model_dir)\n",
    "# dist = calc_shift(keywords, culture, tkn, model_dir)\n",
    "# dist = calc_agg(np.std, keywords, culture, tkn, model_dir, algo=algo)\n",
    "results = {}\n",
    "for algo in [\"w2v\", \"ft\"]:\n",
    "    fn = getattr(similarity, f\"calc_{viz_fns[viz]}\")\n",
    "    dist = fn(\n",
    "        viz_params[viz],\n",
    "        keywords,\n",
    "        culture,\n",
    "        tkn,\n",
    "        model_dir,\n",
    "        algo=algo,\n",
    "        iteration=iteration,\n",
    "    )\n",
    "    dlist = []\n",
    "    for k, v in dist.items():\n",
    "        for kk, vv in v.items():\n",
    "            dlist += [vv]\n",
    "    results[algo] = dlist"
   ]
  },
  {
   "cell_type": "code",
   "execution_count": 9,
   "id": "9a408360",
   "metadata": {},
   "outputs": [],
   "source": [
    "colors = {\"w2v\": \"#0000FF99\", \"ft\": \"#00FF0099\"}\n",
    "\n",
    "p = figure(width=670, height=400, toolbar_location=None, title=\"Embedding Stability\")\n",
    "\n",
    "for k, r in results.items():\n",
    "    x = [float(v) for v in r]\n",
    "    mu = np.average(x)\n",
    "    sigma = np.std(x)\n",
    "    color = colors[k]\n",
    "    # Histogram\n",
    "    bins = np.linspace(min(x), max(x), 40)\n",
    "    hist, edges = np.histogram(x, density=True, bins=bins)\n",
    "    p.quad(\n",
    "        top=hist,\n",
    "        bottom=0,\n",
    "        left=edges[:-1],\n",
    "        right=edges[1:],\n",
    "        fill_color=color,\n",
    "        line_color=color,\n",
    "        legend_label=k,\n",
    "    )\n",
    "\n",
    "    # Probability density function\n",
    "    x = np.linspace(mu - 3 * sigma, mu + 3 * sigma, 100)\n",
    "    p.line(x, stats.norm.pdf(x, mu, sigma), line_width=2, line_color=color)\n",
    "\n",
    "p.y_range.start = 0\n",
    "p.xaxis.axis_label = \"x\"\n",
    "p.yaxis.axis_label = \"PDF(x)\"\n",
    "\n",
    "show(p)"
   ]
  }
 ],
 "metadata": {
  "kernelspec": {
   "display_name": "Python 3 (ipykernel)",
   "language": "python",
   "name": "python3"
  },
  "language_info": {
   "codemirror_mode": {
    "name": "ipython",
    "version": 3
   },
   "file_extension": ".py",
   "mimetype": "text/x-python",
   "name": "python",
   "nbconvert_exporter": "python",
   "pygments_lexer": "ipython3",
   "version": "3.10.6"
  }
 },
 "nbformat": 4,
 "nbformat_minor": 5
}
