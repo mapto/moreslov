{
 "cells": [
  {
   "cell_type": "code",
   "execution_count": 1,
   "id": "52da5308-3574-4cb5-9562-30158e100dee",
   "metadata": {},
   "outputs": [
    {
     "ename": "TypeError",
     "evalue": "Type Tuple cannot be instantiated; use tuple() instead",
     "output_type": "error",
     "traceback": [
      "\u001b[0;31m---------------------------------------------------------------------------\u001b[0m",
      "\u001b[0;31mTypeError\u001b[0m                                 Traceback (most recent call last)",
      "Cell \u001b[0;32mIn[1], line 15\u001b[0m\n\u001b[1;32m     12\u001b[0m \u001b[38;5;28;01mfrom\u001b[39;00m \u001b[38;5;21;01msettings\u001b[39;00m \u001b[38;5;28;01mimport\u001b[39;00m model_dir\n\u001b[1;32m     14\u001b[0m \u001b[38;5;28;01mfrom\u001b[39;00m \u001b[38;5;21;01mcreate\u001b[39;00m \u001b[38;5;28;01mimport\u001b[39;00m tokenize_values  \u001b[38;5;66;03m# , load_source, calc_occurences\u001b[39;00m\n\u001b[0;32m---> 15\u001b[0m \u001b[38;5;28;01mimport\u001b[39;00m \u001b[38;5;21;01msimilarity\u001b[39;00m\n\u001b[1;32m     16\u001b[0m \u001b[38;5;28;01mfrom\u001b[39;00m \u001b[38;5;21;01msimilarity\u001b[39;00m \u001b[38;5;28;01mimport\u001b[39;00m viz_params, viz_fns\n\u001b[1;32m     18\u001b[0m \u001b[38;5;66;03m# from similarity import render, calc_dist, calc_agg, calc_shift\u001b[39;00m\n",
      "File \u001b[0;32m~/work/moreever/similarity.py:22\u001b[0m\n\u001b[1;32m     18\u001b[0m viz_fns \u001b[38;5;241m=\u001b[39m {\u001b[38;5;124m\"\u001b[39m\u001b[38;5;124maverage\u001b[39m\u001b[38;5;124m\"\u001b[39m: \u001b[38;5;124m\"\u001b[39m\u001b[38;5;124magg\u001b[39m\u001b[38;5;124m\"\u001b[39m, \u001b[38;5;124m\"\u001b[39m\u001b[38;5;124msimilarity\u001b[39m\u001b[38;5;124m\"\u001b[39m: \u001b[38;5;124m\"\u001b[39m\u001b[38;5;124msim\u001b[39m\u001b[38;5;124m\"\u001b[39m, \u001b[38;5;124m\"\u001b[39m\u001b[38;5;124mshift\u001b[39m\u001b[38;5;124m\"\u001b[39m: \u001b[38;5;124m\"\u001b[39m\u001b[38;5;124mshift\u001b[39m\u001b[38;5;124m\"\u001b[39m, \u001b[38;5;124m\"\u001b[39m\u001b[38;5;124mstdev\u001b[39m\u001b[38;5;124m\"\u001b[39m: \u001b[38;5;124m\"\u001b[39m\u001b[38;5;124magg\u001b[39m\u001b[38;5;124m\"\u001b[39m}\n\u001b[1;32m     19\u001b[0m viz_pal \u001b[38;5;241m=\u001b[39m {\u001b[38;5;124m\"\u001b[39m\u001b[38;5;124maverage\u001b[39m\u001b[38;5;124m\"\u001b[39m: pal_seq, \u001b[38;5;124m\"\u001b[39m\u001b[38;5;124msimilarity\u001b[39m\u001b[38;5;124m\"\u001b[39m: pal_seq, \u001b[38;5;124m\"\u001b[39m\u001b[38;5;124mshift\u001b[39m\u001b[38;5;124m\"\u001b[39m: pal_div}\n\u001b[1;32m     21\u001b[0m \u001b[38;5;28;01mdef\u001b[39;00m \u001b[38;5;21mlast_available_iteration\u001b[39m(\n\u001b[0;32m---> 22\u001b[0m     model_dir: \u001b[38;5;28mstr\u001b[39m, tkn: \u001b[38;5;28mstr\u001b[39m, algo: \u001b[38;5;28mstr\u001b[39m, epochs: \u001b[38;5;28mint\u001b[39m \u001b[38;5;241m=\u001b[39m \u001b[38;5;241m200\u001b[39m, palette: Dict[\u001b[38;5;28mstr\u001b[39m,\u001b[43mTuple\u001b[49m\u001b[43m(\u001b[49m\u001b[38;5;28;43mstr\u001b[39;49m\u001b[43m)\u001b[49m] \u001b[38;5;241m=\u001b[39m pal_seq\n\u001b[1;32m     23\u001b[0m ) \u001b[38;5;241m-\u001b[39m\u001b[38;5;241m>\u001b[39m \u001b[38;5;28mint\u001b[39m:\n\u001b[1;32m     24\u001b[0m     m \u001b[38;5;241m=\u001b[39m \u001b[38;5;241m-\u001b[39m\u001b[38;5;241m1\u001b[39m\n\u001b[1;32m     25\u001b[0m     \u001b[38;5;28;01mfor\u001b[39;00m f \u001b[38;5;129;01min\u001b[39;00m glob(\u001b[38;5;124mf\u001b[39m\u001b[38;5;124m\"\u001b[39m\u001b[38;5;132;01m{\u001b[39;00mmodel_dir\u001b[38;5;132;01m}\u001b[39;00m\u001b[38;5;124m/all.\u001b[39m\u001b[38;5;132;01m{\u001b[39;00mtkn\u001b[38;5;132;01m}\u001b[39;00m\u001b[38;5;124m.e\u001b[39m\u001b[38;5;132;01m{\u001b[39;00mepochs\u001b[38;5;132;01m}\u001b[39;00m\u001b[38;5;124m.\u001b[39m\u001b[38;5;132;01m{\u001b[39;00malgo\u001b[38;5;132;01m}\u001b[39;00m\u001b[38;5;124m.?\u001b[39m\u001b[38;5;124m\"\u001b[39m):\n",
      "File \u001b[0;32m/usr/lib/python3.10/typing.py:955\u001b[0m, in \u001b[0;36m_BaseGenericAlias.__call__\u001b[0;34m(self, *args, **kwargs)\u001b[0m\n\u001b[1;32m    953\u001b[0m \u001b[38;5;28;01mdef\u001b[39;00m \u001b[38;5;21m__call__\u001b[39m(\u001b[38;5;28mself\u001b[39m, \u001b[38;5;241m*\u001b[39margs, \u001b[38;5;241m*\u001b[39m\u001b[38;5;241m*\u001b[39mkwargs):\n\u001b[1;32m    954\u001b[0m     \u001b[38;5;28;01mif\u001b[39;00m \u001b[38;5;129;01mnot\u001b[39;00m \u001b[38;5;28mself\u001b[39m\u001b[38;5;241m.\u001b[39m_inst:\n\u001b[0;32m--> 955\u001b[0m         \u001b[38;5;28;01mraise\u001b[39;00m \u001b[38;5;167;01mTypeError\u001b[39;00m(\u001b[38;5;124mf\u001b[39m\u001b[38;5;124m\"\u001b[39m\u001b[38;5;124mType \u001b[39m\u001b[38;5;132;01m{\u001b[39;00m\u001b[38;5;28mself\u001b[39m\u001b[38;5;241m.\u001b[39m_name\u001b[38;5;132;01m}\u001b[39;00m\u001b[38;5;124m cannot be instantiated; \u001b[39m\u001b[38;5;124m\"\u001b[39m\n\u001b[1;32m    956\u001b[0m                         \u001b[38;5;124mf\u001b[39m\u001b[38;5;124m\"\u001b[39m\u001b[38;5;124muse \u001b[39m\u001b[38;5;132;01m{\u001b[39;00m\u001b[38;5;28mself\u001b[39m\u001b[38;5;241m.\u001b[39m__origin__\u001b[38;5;241m.\u001b[39m\u001b[38;5;18m__name__\u001b[39m\u001b[38;5;132;01m}\u001b[39;00m\u001b[38;5;124m() instead\u001b[39m\u001b[38;5;124m\"\u001b[39m)\n\u001b[1;32m    957\u001b[0m     result \u001b[38;5;241m=\u001b[39m \u001b[38;5;28mself\u001b[39m\u001b[38;5;241m.\u001b[39m__origin__(\u001b[38;5;241m*\u001b[39margs, \u001b[38;5;241m*\u001b[39m\u001b[38;5;241m*\u001b[39mkwargs)\n\u001b[1;32m    958\u001b[0m     \u001b[38;5;28;01mtry\u001b[39;00m:\n",
      "\u001b[0;31mTypeError\u001b[0m: Type Tuple cannot be instantiated; use tuple() instead"
     ]
    }
   ],
   "source": [
    "from typing import List\n",
    "\n",
    "import numpy as np\n",
    "import pandas as pd\n",
    "import scipy.stats as stats\n",
    "\n",
    "from bokeh.plotting import figure, show\n",
    "\n",
    "from corpora import corpora as countries\n",
    "from stemmers import stemmers\n",
    "from algo import algos\n",
    "from settings import model_dir\n",
    "\n",
    "from create import tokenize_values  # , load_source, calc_occurences\n",
    "import similarity\n",
    "from similarity import viz_params, viz_fns\n",
    "\n",
    "# from similarity import render, calc_dist, calc_agg, calc_shift"
   ]
  },
  {
   "cell_type": "code",
   "execution_count": null,
   "id": "cdbb549a-6dc4-4271-b08f-10a0ce61237e",
   "metadata": {},
   "outputs": [],
   "source": [
    "tkn = \"sb\"\n",
    "# tkn = \"dummy\"\n",
    "algo = \"ft\"\n",
    "# algo = \"w2v\"\n",
    "\n",
    "# culture = \"I\"\n",
    "culture = \"all\"\n",
    "# culture = \"Germany\"\n",
    "# culture = \"Italy\"\n",
    "# culture = \"Portugal\"\n",
    "iteration = 0  # sb values; dummy corpus\n",
    "# iteration = 1 # sb values and corpus\n",
    "\n",
    "epochs = 200\n",
    "\n",
    "viz = \"average\"\n",
    "# viz = \"similarity\"\n",
    "# viz = \"shift\"\n",
    "viz = \"stdev\"\n",
    "\n",
    "\n",
    "model_dir = \"/home/mapto/models/20230713\""
   ]
  },
  {
   "cell_type": "code",
   "execution_count": null,
   "id": "bfeaa6fb-3afa-4e13-9a61-a8dae0210569",
   "metadata": {},
   "outputs": [],
   "source": [
    "values, valuesbackref = tokenize_values(tkn)\n",
    "# fulltexts, tokenized = load_source(stemmers[tkn], countries)\n",
    "# occurences, occurences_tv, occurences_backref = calc_occurences(values, tokenized)"
   ]
  },
  {
   "cell_type": "code",
   "execution_count": null,
   "id": "e29162b7-03ea-449f-b703-e7393b096604",
   "metadata": {},
   "outputs": [],
   "source": [
    "# keywords = sorted(list(set(occurences_backref.keys())))\n",
    "keywords = sorted(list(values.keys()))"
   ]
  },
  {
   "cell_type": "code",
   "execution_count": null,
   "id": "d08d0a5a-e769-450c-9cfa-fd9b62306be9",
   "metadata": {},
   "outputs": [],
   "source": [
    "# dist = calc_dist(keywords, culture, tkn, model_dir)\n",
    "# dist = calc_shift(keywords, culture, tkn, model_dir)\n",
    "# dist = calc_agg(np.std, keywords, culture, tkn, model_dir, algo=algo)\n",
    "results = {}\n",
    "for algo in [\"w2v\", \"ft\"]:\n",
    "    fn = getattr(similarity, f\"calc_{viz_fns[viz]}\")\n",
    "    dist = fn(\n",
    "        viz_params[viz],\n",
    "        keywords,\n",
    "        culture,\n",
    "        tkn,\n",
    "        model_dir,\n",
    "        algo=algo,\n",
    "        iteration=iteration,\n",
    "    )\n",
    "    dlist = []\n",
    "    for k, v in dist.items():\n",
    "        for kk, vv in v.items():\n",
    "            dlist += [vv]\n",
    "    results[algo] = dlist"
   ]
  },
  {
   "cell_type": "code",
   "execution_count": null,
   "id": "9a408360",
   "metadata": {},
   "outputs": [],
   "source": [
    "colors = {\"w2v\": \"#0000FF99\", \"ft\": \"#00FF0099\"}\n",
    "\n",
    "p = figure(width=670, height=400, toolbar_location=None, title=\"Embedding Stability\")\n",
    "\n",
    "for k, r in results.items():\n",
    "    x = [float(v) for v in r]\n",
    "    mu = np.average(x)\n",
    "    sigma = np.std(x)\n",
    "    color = colors[k]\n",
    "    # Histogram\n",
    "    bins = np.linspace(min(x), max(x), 40)\n",
    "    hist, edges = np.histogram(x, density=True, bins=bins)\n",
    "    p.quad(\n",
    "        top=hist,\n",
    "        bottom=0,\n",
    "        left=edges[:-1],\n",
    "        right=edges[1:],\n",
    "        fill_color=color,\n",
    "        line_color=color,\n",
    "        legend_label=k,\n",
    "    )\n",
    "\n",
    "    # Probability density function\n",
    "    x = np.linspace(mu - 3 * sigma, mu + 3 * sigma, 100)\n",
    "    p.line(x, stats.norm.pdf(x, mu, sigma), line_width=2, line_color=color)\n",
    "\n",
    "p.y_range.start = 0\n",
    "p.xaxis.axis_label = \"x\"\n",
    "p.yaxis.axis_label = \"PDF(x)\"\n",
    "\n",
    "show(p)"
   ]
  }
 ],
 "metadata": {
  "kernelspec": {
   "display_name": "Python 3 (ipykernel)",
   "language": "python",
   "name": "python3"
  },
  "language_info": {
   "codemirror_mode": {
    "name": "ipython",
    "version": 3
   },
   "file_extension": ".py",
   "mimetype": "text/x-python",
   "name": "python",
   "nbconvert_exporter": "python",
   "pygments_lexer": "ipython3",
   "version": "3.10.6"
  }
 },
 "nbformat": 4,
 "nbformat_minor": 5
}
