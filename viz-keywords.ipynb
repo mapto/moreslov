{
 "cells": [
  {
   "attachments": {},
   "cell_type": "markdown",
   "id": "948336e6",
   "metadata": {},
   "source": [
    "# Statistics about annotations"
   ]
  },
  {
   "cell_type": "code",
   "execution_count": 1,
   "id": "64ef5e3b",
   "metadata": {},
   "outputs": [],
   "source": [
    "from typing import Dict, List, Set\n",
    "\n",
    "import json\n",
    "from glob import glob\n",
    "import itertools\n",
    "\n",
    "import pandas as pd\n",
    "import numpy as np\n",
    "from tqdm.notebook import tqdm\n",
    "\n",
    "from util import story_tokenize, collect_tokens\n",
    "from create import tokenize_values, load_source, calc_occurences"
   ]
  },
  {
   "cell_type": "code",
   "execution_count": 2,
   "id": "f20971aa",
   "metadata": {},
   "outputs": [],
   "source": [
    "# import nltk\n",
    "# nltk.download('wordnet')"
   ]
  },
  {
   "cell_type": "code",
   "execution_count": 3,
   "id": "f66edcbd",
   "metadata": {},
   "outputs": [],
   "source": [
    "from stemmers import stemmers\n",
    "\n",
    "tkn = \"sb\""
   ]
  },
  {
   "cell_type": "code",
   "execution_count": 4,
   "id": "5ae1bb19",
   "metadata": {},
   "outputs": [],
   "source": [
    "from corpora import corpora\n",
    "from template import venn_templ"
   ]
  },
  {
   "cell_type": "code",
   "execution_count": 6,
   "id": "ee08a40f",
   "metadata": {},
   "outputs": [],
   "source": [
    "values, values_backref = tokenize_values(tkn, fname=\"values-edited.flat\")\n",
    "# values, values_backref = tokenize_values(tkn, fname=\"values-edited\")\n",
    "# print(sum(len(v) for v in values.values()))\n",
    "# values"
   ]
  },
  {
   "cell_type": "code",
   "execution_count": 7,
   "id": "15d54472",
   "metadata": {},
   "outputs": [],
   "source": [
    "fulltexts, tokenized = load_source(stemmers[tkn], corpora)\n",
    "# fulltexts"
   ]
  },
  {
   "cell_type": "code",
   "execution_count": 8,
   "id": "1e2fe8ee",
   "metadata": {},
   "outputs": [
    {
     "data": {
      "text/plain": [
       "(3995, 68)"
      ]
     },
     "execution_count": 8,
     "metadata": {},
     "output_type": "execute_result"
    }
   ],
   "source": [
    "occurences, occurences_tv, occurences_backref = calc_occurences(values, tokenized)\n",
    "sum(v for v in occurences.values()), sum(1 for o in occurences_backref.keys())"
   ]
  },
  {
   "cell_type": "code",
   "execution_count": 9,
   "id": "ced66a34",
   "metadata": {},
   "outputs": [],
   "source": [
    "ckeywords: Dict[str, Set[str]] = {}\n",
    "for c in corpora:\n",
    "    ckeywords[c] = set(\n",
    "        itertools.chain(\n",
    "            *[list(v.keys()) for k, v in occurences_tv.items() if k.startswith(c)]\n",
    "        )\n",
    "    )"
   ]
  },
  {
   "cell_type": "code",
   "execution_count": 10,
   "id": "79a2ddd4",
   "metadata": {},
   "outputs": [
    {
     "name": "stdout",
     "output_type": "stream",
     "text": [
      "68\n"
     ]
    },
    {
     "data": {
      "text/plain": [
       "['abl',\n",
       " 'accept',\n",
       " 'angel',\n",
       " 'brother',\n",
       " 'claim',\n",
       " 'clever',\n",
       " 'compass',\n",
       " 'confid',\n",
       " 'convers',\n",
       " 'correct',\n",
       " 'curios',\n",
       " 'curious',\n",
       " 'equal',\n",
       " 'evid',\n",
       " 'fair',\n",
       " 'faith',\n",
       " 'father',\n",
       " 'free',\n",
       " 'gentl',\n",
       " 'god',\n",
       " 'good',\n",
       " 'gracious',\n",
       " 'harmoni',\n",
       " 'help',\n",
       " 'honest',\n",
       " 'honor',\n",
       " 'hospit',\n",
       " 'husband',\n",
       " 'innoc',\n",
       " 'jewel',\n",
       " 'judg',\n",
       " 'just',\n",
       " 'justic',\n",
       " 'kind',\n",
       " 'king',\n",
       " 'know',\n",
       " 'knowledg',\n",
       " 'law',\n",
       " 'liberti',\n",
       " 'love',\n",
       " 'marri',\n",
       " 'marriag',\n",
       " 'mother',\n",
       " 'pay',\n",
       " 'peac',\n",
       " 'permiss',\n",
       " 'pieti',\n",
       " 'pious',\n",
       " 'piti',\n",
       " 'pray',\n",
       " 'prize',\n",
       " 'punish',\n",
       " 'pure',\n",
       " 'queen',\n",
       " 'reason',\n",
       " 'reward',\n",
       " 'right',\n",
       " 'saint',\n",
       " 'sister',\n",
       " 'support',\n",
       " 'togeth',\n",
       " 'treasur',\n",
       " 'trial',\n",
       " 'truth',\n",
       " 'virgin',\n",
       " 'wed',\n",
       " 'wife',\n",
       " 'wise']"
      ]
     },
     "execution_count": 10,
     "metadata": {},
     "output_type": "execute_result"
    }
   ],
   "source": [
    "keywords = sorted(list(set(occurences_backref.keys())))\n",
    "print(len(keywords))\n",
    "keywords"
   ]
  },
  {
   "cell_type": "code",
   "execution_count": 11,
   "id": "0c4e2602",
   "metadata": {},
   "outputs": [
    {
     "data": {
      "text/plain": [
       "{'abil',\n",
       " 'allianc',\n",
       " 'altruism',\n",
       " 'author',\n",
       " 'benefit',\n",
       " 'benevol',\n",
       " 'bounti',\n",
       " 'chariti',\n",
       " 'compens',\n",
       " 'cooper',\n",
       " 'courtesi',\n",
       " 'devot',\n",
       " 'dialog',\n",
       " 'dialogu',\n",
       " 'disciplin',\n",
       " 'emancip',\n",
       " 'empathi',\n",
       " 'frank',\n",
       " 'freedom',\n",
       " 'generos',\n",
       " 'generous',\n",
       " 'honesti',\n",
       " 'independ',\n",
       " 'ingenu',\n",
       " 'intellig',\n",
       " 'loyal',\n",
       " 'loyalti',\n",
       " 'major',\n",
       " 'payment',\n",
       " 'puriti',\n",
       " 'revel',\n",
       " 'rule',\n",
       " 'sacriﬁc',\n",
       " 'selfless',\n",
       " 'smart',\n",
       " 'solidar',\n",
       " 'spous',\n",
       " 'sympathi',\n",
       " 'talent',\n",
       " 'toler',\n",
       " 'wisdom'}"
      ]
     },
     "execution_count": 11,
     "metadata": {},
     "output_type": "execute_result"
    }
   ],
   "source": [
    "unused_values = set(values.keys())\n",
    "for k in keywords:\n",
    "    unused_values.remove(k)\n",
    "unused_values"
   ]
  },
  {
   "cell_type": "code",
   "execution_count": 12,
   "id": "1e737426",
   "metadata": {},
   "outputs": [
    {
     "name": "stderr",
     "output_type": "stream",
     "text": [
      "/tmp/ipykernel_19809/1261455793.py:1: DeprecationWarning: Importing display from IPython.core.display is deprecated since IPython 7.14, please import from IPython display\n",
      "  from IPython.core.display import display, HTML\n"
     ]
    },
    {
     "data": {
      "text/html": [
       "<?xml version=\"1.0\" encoding=\"UTF-8\" standalone=\"no\"?>\n",
       "<svg xmlns=\"http://www.w3.org/2000/svg\" height=\"700\" width=\"700\">\n",
       "  <circle cx=\"37.5%\" cy=\"37.5%\" r=\"40%\" style=\"fill:#ffaaaa;fill-opacity:.5\" />\n",
       "  <circle cx=\"62.5%\" cy=\"37.5%\" r=\"40%\" style=\"fill:#aaffaa;fill-opacity:.5\" />\n",
       "  <circle cx=\"50%\" cy=\"65%\" r=\"40%\" style=\"fill:#aaaaff;fill-opacity:.5\" />\n",
       "  \n",
       "  <text transform=\"translate(105,70)\" width=\"20%\" height=\"20%\">\n",
       "    <tspan x=\"0\" y=\"-10\">Germany (DE)</tspan><tspan x=\"0\" y=\"0\">pious</tspan><tspan x=\"0\" y=\"10\">gentl</tspan><tspan x=\"0\" y=\"20\">honest</tspan><tspan x=\"0\" y=\"30\">justic</tspan><tspan x=\"0\" y=\"40\">prize</tspan><tspan x=\"0\" y=\"50\">pieti</tspan>\n",
       "  </text>\n",
       "  <text transform=\"translate(525,70)\" width=\"20%\" height=\"20%\">\n",
       "    <tspan x=\"0\" y=\"-10\">Italy (IT)</tspan><tspan x=\"0\" y=\"0\">correct</tspan><tspan x=\"0\" y=\"10\">pure</tspan><tspan x=\"0\" y=\"20\">hospit</tspan>\n",
       "  </text>\n",
       "  <text transform=\"translate(315,595)\" width=\"20%\" height=\"20%\">\n",
       "    <tspan x=\"0\" y=\"-10\">Portugal (PT)</tspan><tspan x=\"0\" y=\"0\">knowledg</tspan><tspan x=\"0\" y=\"10\">evid</tspan>\n",
       "  </text>\n",
       "\n",
       "  <text transform=\"translate(105,350)\" width=\"20%\" height=\"20%\">\n",
       "    <tspan x=\"0\" y=\"0\">clever</tspan><tspan x=\"0\" y=\"10\">judg</tspan><tspan x=\"0\" y=\"20\">virgin</tspan><tspan x=\"0\" y=\"30\">claim</tspan><tspan x=\"0\" y=\"40\">convers</tspan><tspan x=\"0\" y=\"50\">angel</tspan>\n",
       "  </text>\n",
       "  <text transform=\"translate(535,350)\" width=\"20%\" height=\"20%\">\n",
       "    <tspan x=\"0\" y=\"0\">accept</tspan><tspan x=\"0\" y=\"10\">gracious</tspan><tspan x=\"0\" y=\"20\">law</tspan><tspan x=\"0\" y=\"30\">saint</tspan><tspan x=\"0\" y=\"40\">harmoni</tspan><tspan x=\"0\" y=\"50\">permiss</tspan>\n",
       "  </text>\n",
       "  <text transform=\"translate(315,35)\" width=\"20%\" height=\"20%\">\n",
       "    <tspan x=\"0\" y=\"0\">honor</tspan><tspan x=\"0\" y=\"10\">free</tspan><tspan x=\"0\" y=\"20\">support</tspan><tspan x=\"0\" y=\"30\">wise</tspan><tspan x=\"0\" y=\"40\">trial</tspan><tspan x=\"0\" y=\"50\">faith</tspan>\n",
       "  </text>\n",
       "\n",
       "  <text transform=\"translate(315,210)\" width=\"20%\" height=\"20%\">\n",
       "    <tspan x=\"0\" y=\"0\">pray</tspan><tspan x=\"0\" y=\"10\">truth</tspan><tspan x=\"0\" y=\"20\">wife</tspan><tspan x=\"0\" y=\"30\">peac</tspan><tspan x=\"0\" y=\"40\">equal</tspan><tspan x=\"0\" y=\"50\">just</tspan><tspan x=\"0\" y=\"60\">right</tspan><tspan x=\"0\" y=\"70\">compass</tspan><tspan x=\"0\" y=\"80\">love</tspan><tspan x=\"0\" y=\"90\">help</tspan><tspan x=\"0\" y=\"100\">liberti</tspan><tspan x=\"0\" y=\"110\">brother</tspan><tspan x=\"0\" y=\"120\">reason</tspan><tspan x=\"0\" y=\"130\">fair</tspan><tspan x=\"0\" y=\"140\">king</tspan><tspan x=\"0\" y=\"150\">marri</tspan><tspan x=\"0\" y=\"160\">treasur</tspan><tspan x=\"0\" y=\"170\">marriag</tspan><tspan x=\"0\" y=\"180\">jewel</tspan><tspan x=\"0\" y=\"190\">punish</tspan><tspan x=\"0\" y=\"200\">abl</tspan><tspan x=\"0\" y=\"210\">innoc</tspan><tspan x=\"0\" y=\"220\">wed</tspan><tspan x=\"0\" y=\"230\">queen</tspan><tspan x=\"0\" y=\"240\">father</tspan><tspan x=\"0\" y=\"250\">good</tspan><tspan x=\"0\" y=\"260\">piti</tspan><tspan x=\"0\" y=\"270\">mother</tspan><tspan x=\"0\" y=\"280\">reward</tspan><tspan x=\"0\" y=\"290\">husband</tspan><tspan x=\"0\" y=\"300\">curios</tspan><tspan x=\"0\" y=\"310\">togeth</tspan><tspan x=\"0\" y=\"320\">know</tspan><tspan x=\"0\" y=\"330\">kind</tspan><tspan x=\"0\" y=\"340\">sister</tspan><tspan x=\"0\" y=\"350\">god</tspan><tspan x=\"0\" y=\"360\">pay</tspan><tspan x=\"0\" y=\"370\">confid</tspan><tspan x=\"0\" y=\"380\">curious</tspan>\n",
       "  </text>\n",
       "</svg>"
      ],
      "text/plain": [
       "<IPython.core.display.HTML object>"
      ]
     },
     "metadata": {},
     "output_type": "display_data"
    }
   ],
   "source": [
    "from IPython.core.display import display, HTML\n",
    "\n",
    "# de_keywords = {'a', 'd'}\n",
    "# it_keywords = {'b', 'd'}\n",
    "# pt_keywords = {'c', 'd'}\n",
    "\n",
    "\n",
    "de_keywords = ckeywords[\"Germany\"]\n",
    "it_keywords = ckeywords[\"Italy\"]\n",
    "pt_keywords = ckeywords[\"Portugal\"]\n",
    "\n",
    "params = {\n",
    "    \"de_it_pt\": de_keywords & it_keywords & pt_keywords,\n",
    "    \"de\": de_keywords - it_keywords - pt_keywords,\n",
    "    \"it\": it_keywords - de_keywords - pt_keywords,\n",
    "    \"pt\": pt_keywords - de_keywords - it_keywords,\n",
    "}\n",
    "params[\"de_it\"] = (de_keywords & it_keywords) - params[\"de_it_pt\"]\n",
    "params[\"de_pt\"] = (de_keywords & pt_keywords) - params[\"de_it_pt\"]\n",
    "params[\"it_pt\"] = (it_keywords & pt_keywords) - params[\"de_it_pt\"]\n",
    "\n",
    "params = {\n",
    "    k: \"\".join(\n",
    "        [f'<tspan x=\"0\" y=\"{i*10}\">{p}</tspan>' for i, p in enumerate(list(params[k]))]\n",
    "    )\n",
    "    for k, v in params.items()\n",
    "}\n",
    "\n",
    "# print(params)\n",
    "result = venn_templ.format(**params)\n",
    "with open(f\"venn.{tkn}.svg\", \"w\") as f:\n",
    "    f.writelines(result)\n",
    "display(HTML(result))\n",
    "# display(HTML(table_templ.format(**params)))"
   ]
  },
  {
   "cell_type": "code",
   "execution_count": null,
   "id": "ebc57e4d",
   "metadata": {},
   "outputs": [],
   "source": []
  }
 ],
 "metadata": {
  "kernelspec": {
   "display_name": "Python 3 (ipykernel)",
   "language": "python",
   "name": "python3"
  },
  "language_info": {
   "codemirror_mode": {
    "name": "ipython",
    "version": 3
   },
   "file_extension": ".py",
   "mimetype": "text/x-python",
   "name": "python",
   "nbconvert_exporter": "python",
   "pygments_lexer": "ipython3",
   "version": "3.10.6"
  },
  "toc": {
   "base_numbering": 1,
   "nav_menu": {},
   "number_sections": true,
   "sideBar": true,
   "skip_h1_title": false,
   "title_cell": "Table of Contents",
   "title_sidebar": "Contents",
   "toc_cell": false,
   "toc_position": {},
   "toc_section_display": true,
   "toc_window_display": false
  }
 },
 "nbformat": 4,
 "nbformat_minor": 5
}
