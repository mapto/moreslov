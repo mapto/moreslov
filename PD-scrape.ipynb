{
 "cells": [
  {
   "cell_type": "markdown",
   "metadata": {},
   "source": [
    "# Scraping chapter-only texts from the public domain sources\n",
    "\n",
    "https://docs.google.com/document/d/1mu6Fu-XArUpYg7UqwZazfRrFdL_0H328U_uoCKa9Yj4/edit#"
   ]
  },
  {
   "cell_type": "code",
   "execution_count": 1,
   "metadata": {},
   "outputs": [],
   "source": [
    "import os\n",
    "import re\n",
    "import requests\n",
    "import lxml.html as lh\n",
    "import logging as log\n",
    "\n",
    "logger = log.getLogger(__name__)\n",
    "logger.setLevel(log.DEBUG)"
   ]
  },
  {
   "cell_type": "code",
   "execution_count": 3,
   "metadata": {},
   "outputs": [],
   "source": [
    "from texts import refs"
   ]
  },
  {
   "cell_type": "code",
   "execution_count": null,
   "metadata": {},
   "outputs": [],
   "source": [
    "for r in refs:\n",
    "    if len(r[\"chapters\"]) != 20:\n",
    "        print(f'{r} {len(r[\"chapters\"])}')"
   ]
  },
  {
   "cell_type": "code",
   "execution_count": null,
   "metadata": {},
   "outputs": [],
   "source": [
    "for i, record in enumerate(refs):\n",
    "    name = record[\"name\"]\n",
    "    url = record[\"url\"]\n",
    "    locator = record[\"locator\"]  # xpath\n",
    "    title_locator = record[\"title_locator\"]\n",
    "    parts = record[\"chapters\"]\n",
    "\n",
    "    body = response.text\n",
    "    if not os.path.exists(f\"stories/{name}\"):\n",
    "        os.mkdir(f\"stories/{name}\")\n",
    "    if not os.path.exists(f\"stories/{name}/page.html\"):\n",
    "        log.debug(f\"{name}, {url}, {parts}\")\n",
    "        response = requests.get(url)\n",
    "        if response.status_code >= 400:\n",
    "            log.error(\n",
    "                f\"Request for {url} returned with error code {response.status_code}\"\n",
    "            )\n",
    "            continue\n",
    "        with open(f\"stories/{name}/page.html\", \"w\") as fout:\n",
    "            fout.writelines(body)\n",
    "\n",
    "    log.debug(f\"stories/{name}/page.html\")\n",
    "    doc = lh.parse(f\"stories/{name}/page.html\")\n",
    "    for rid in parts:\n",
    "        log.debug(rid)\n",
    "        query = locator % rid  # apply rid tuple on f-string locator\n",
    "        #         print(query)\n",
    "        entries = doc.xpath(query)\n",
    "\n",
    "        log.debug(entries)\n",
    "        if not entries or len(entries) == 0:\n",
    "            log.error(f\"Unable to find: \" + query)\n",
    "        fulltext = \"\\n\".join(e.text_content().strip() for e in entries).strip()\n",
    "        fulltext = fulltext.replace(\"​\", \"\")\n",
    "\n",
    "        query = title_locator % rid[0]  # apply rid tuple on f-string locator\n",
    "        #         print(query)\n",
    "        entries = doc.xpath(query)\n",
    "        if not entries or len(entries) == 0:\n",
    "            log.error(f\"Unable to find title: \" + query)\n",
    "        fname = \"\".join(e.strip() for e in entries).strip()\n",
    "        fname = re.sub(\"[^A-Za-z0-9]+\", \"_\", fname)\n",
    "        print(f\"{name}/{fname}.txt\")\n",
    "        #         fname = re.sub(\"[^A-Za-z0-9]+\", \"\", rid[0])\n",
    "        with open(f\"stories/{name}/{fname}.txt\", \"w\") as f:\n",
    "            f.writelines(fulltext)"
   ]
  },
  {
   "cell_type": "code",
   "execution_count": null,
   "metadata": {},
   "outputs": [],
   "source": [
    "# TODO: cleanup\n",
    "\n",
    "# for italy:\n",
    "# 1. remove [Pg XXX]\n",
    "# 2. remove references [XX], with X being a number\n",
    "# (maybe) 3. remove notes: [Z] and lines starting with [Z]\n",
    "note_regex = \"\\[(Pg )?\\d+\\]\"\n",
    "page_regex = r\"\\[Pg \\d{1,3}]\"\n",
    "# Lettered footnotes seem to contain that is content-specific, so possibly part of the corpus\n",
    "# note_regex = r\"\\[[A-Z]\\]\""
   ]
  }
 ],
 "metadata": {
  "kernelspec": {
   "display_name": "Python 3",
   "language": "python",
   "name": "python3"
  },
  "language_info": {
   "codemirror_mode": {
    "name": "ipython",
    "version": 3
   },
   "file_extension": ".py",
   "mimetype": "text/x-python",
   "name": "python",
   "nbconvert_exporter": "python",
   "pygments_lexer": "ipython3",
   "version": "3.8.10"
  }
 },
 "nbformat": 4,
 "nbformat_minor": 4
}
