{
 "cells": [
  {
   "cell_type": "code",
   "execution_count": 1,
   "id": "52da5308-3574-4cb5-9562-30158e100dee",
   "metadata": {},
   "outputs": [],
   "source": [
    "from typing import List\n",
    "\n",
    "import numpy as np\n",
    "import pandas as pd\n",
    "\n",
    "from const import countries, country2idx\n",
    "from stemmers import stemmers\n",
    "from algo import algos\n",
    "\n",
    "from create import tokenize_values, load_source, calc_occurences\n",
    "from similarity import render, calc_dist, calc_agg, calc_shift"
   ]
  },
  {
   "cell_type": "code",
   "execution_count": 2,
   "id": "cdbb549a-6dc4-4271-b08f-10a0ce61237e",
   "metadata": {},
   "outputs": [],
   "source": [
    "tkn = \"sb\"\n",
    "tkn = \"dummy\"\n",
    "algo = \"ft\"\n",
    "algo = \"w2v\"\n",
    "\n",
    "culture = country2idx[\"I\"]\n",
    "iteration = 2\n",
    "epochs = 200\n",
    "\n",
    "model_dir = \"/home/mapto/models/20230707\""
   ]
  },
  {
   "cell_type": "code",
   "execution_count": 3,
   "id": "bfeaa6fb-3afa-4e13-9a61-a8dae0210569",
   "metadata": {},
   "outputs": [],
   "source": [
    "values, valuesbackref = tokenize_values(tkn)\n",
    "fulltexts, tokenized = load_source(stemmers[tkn], countries)\n",
    "occurences, occurences_tv, occurences_backref = calc_occurences(values, tokenized)"
   ]
  },
  {
   "cell_type": "code",
   "execution_count": 4,
   "id": "e29162b7-03ea-449f-b703-e7393b096604",
   "metadata": {},
   "outputs": [],
   "source": [
    "# keywords = sorted(list(set(occurences_backref.keys())))\n",
    "keywords = sorted(list(values.keys()))"
   ]
  },
  {
   "cell_type": "code",
   "execution_count": 5,
   "id": "335eff0a-9d6e-438f-b8eb-50020e59f005",
   "metadata": {},
   "outputs": [],
   "source": [
    "# dist = calc_dist(keywords, culture, tkn, model_dir)\n",
    "# dist = calc_shift(keywords, culture, tkn, model_dir)\n",
    "# dist = calc_agg(np.std, keywords, culture, tkn, model_dir, algo=algo)\n",
    "dist = calc_agg(np.mean, keywords, culture, tkn, model_dir, algo=algo)\n",
    "\n",
    "dlist = []\n",
    "for k, v in dist.items():\n",
    "    for kk, vv in v.items():\n",
    "        dlist += [(k, kk, vv)]\n",
    "\n",
    "df = pd.DataFrame(dlist, columns=[\"from\", \"to\", \"dist\"])"
   ]
  },
  {
   "cell_type": "code",
   "execution_count": 6,
   "id": "9a408360",
   "metadata": {},
   "outputs": [],
   "source": [
    "# title = f\"Similarity between values in model (tokenisation: {tkn})\"\n",
    "# title = f\"Shift of values in model (Model: {algo})\"\n",
    "# title = f\"Stability of values in model (Model: {algo})\"\n",
    "title = f\"Average of values in model (Model: {algo})\"\n",
    "render(title, df, fname=f\"average-{culture}-{algo}.html\")"
   ]
  }
 ],
 "metadata": {
  "kernelspec": {
   "display_name": "Python 3 (ipykernel)",
   "language": "python",
   "name": "python3"
  },
  "language_info": {
   "codemirror_mode": {
    "name": "ipython",
    "version": 3
   },
   "file_extension": ".py",
   "mimetype": "text/x-python",
   "name": "python",
   "nbconvert_exporter": "python",
   "pygments_lexer": "ipython3",
   "version": "3.10.6"
  }
 },
 "nbformat": 4,
 "nbformat_minor": 5
}
