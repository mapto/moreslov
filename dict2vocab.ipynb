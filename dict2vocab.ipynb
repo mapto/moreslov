{
 "cells": [
  {
   "cell_type": "code",
   "execution_count": null,
   "id": "5c24bce5-6269-41fc-a6ac-50a462706769",
   "metadata": {},
   "outputs": [],
   "source": [
    "import csv\n",
    "\n",
    "import os\n",
    "os.environ[\"VOCAB\"] = \"placeholder\"\n",
    "os.environ[\"CORPORA\"] = \"placeholder\"\n",
    "os.environ[\"ISO_LANG\"] = \"en\"\n",
    "\n",
    "from stemmers import stemmers\n",
    "# from create import tokenize_values"
   ]
  },
  {
   "cell_type": "code",
   "execution_count": null,
   "id": "fa9a2c49",
   "metadata": {},
   "outputs": [],
   "source": [
    "fname = \"../dict/mfd2.0.dic\"  # Hopp, MFT\n",
    "# fname = \"../dict/mft_original.dic\"  # multilabel\n",
    "# fname = \"../dict/Provisional_dictionary.dic\"\n",
    "# fname = \"../dict/Refined_dictionary.dic\" # Ponizovskiy, Schwartz"
   ]
  },
  {
   "cell_type": "code",
   "execution_count": null,
   "id": "19ebdea9",
   "metadata": {},
   "outputs": [],
   "source": [
    "# phases: 0 - init; 1 - classes; 2 - vocab\n",
    "phases = 0\n",
    "classes = {}\n",
    "codes = {}\n",
    "\n",
    "with open(fname) as fin:\n",
    "    src = csv.reader(fin, delimiter=\"\\t\")\n",
    "    for r in src:\n",
    "        if not r:\n",
    "            continue\n",
    "        if r[0] == \"%\":\n",
    "            phases += 1\n",
    "            continue\n",
    "        if phases == 1:\n",
    "            classes[r[0]] = r[1]\n",
    "            codes[r[0]] = []\n",
    "            continue\n",
    "        assert phases == 2, f\"Not expected to arrive to phase {phases}\"\n",
    "        if \" \" not in r[0]:\n",
    "            codes[r[1]] += [r[0]]\n",
    "classes"
   ]
  },
  {
   "cell_type": "code",
   "execution_count": null,
   "id": "b58c94fb",
   "metadata": {},
   "outputs": [],
   "source": [
    "for s in stemmers.keys():\n",
    "    backref = {}\n",
    "    for c, r in codes.items():\n",
    "        for v in r:\n",
    "            stem = stemmers[s](v, None)\n",
    "            if stem in backref:\n",
    "                backref[stem] |= set([c])\n",
    "            else:\n",
    "                backref[stem] = set([c])\n",
    "    fname_out = fname.replace(\".dic\", f\".{s}.csv\")\n",
    "    print(fname_out)\n",
    "    print(backref)\n",
    "    with open(fname_out, \"w\") as fout:\n",
    "        dest = csv.writer(fout)\n",
    "        for c, r in codes.items():\n",
    "            row = [classes[c].replace(\".\", \"_\")] + [\n",
    "                v for v in r if len(backref[stemmers[s](v, None)]) == 1\n",
    "            ]\n",
    "            dest.writerow(row)"
   ]
  }
 ],
 "metadata": {
  "kernelspec": {
   "display_name": "Python 3 (ipykernel)",
   "language": "python",
   "name": "python3"
  },
  "language_info": {
   "codemirror_mode": {
    "name": "ipython",
    "version": 3
   },
   "file_extension": ".py",
   "mimetype": "text/x-python",
   "name": "python",
   "nbconvert_exporter": "python",
   "pygments_lexer": "ipython3",
   "version": "3.10.12"
  }
 },
 "nbformat": 4,
 "nbformat_minor": 5
}
